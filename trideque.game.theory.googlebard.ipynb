{
  "cells": [
    {
      "cell_type": "markdown",
      "metadata": {
        "id": "view-in-github",
        "colab_type": "text"
      },
      "source": [
        "<a href=\"https://colab.research.google.com/github/graylan0/quantum-machine-learning/blob/main/trideque.game.theory.googlebard.ipynb\" target=\"_parent\"><img src=\"https://colab.research.google.com/assets/colab-badge.svg\" alt=\"Open In Colab\"/></a>"
      ]
    },
    {
      "cell_type": "markdown",
      "source": [
        "Sure, here is the part 1 python code:"
      ],
      "metadata": {
        "id": "xBCQvDL3bC2V"
      }
    },
    {
      "cell_type": "code",
      "source": [
        "import random\n",
        "\n",
        "class Trideque:\n",
        "    def __init__(self):\n",
        "        self.deque = []\n",
        "\n",
        "    def add(self, item):\n",
        "        self.deque.append(item)\n",
        "        if len(self.deque) > 3:\n",
        "            self.deque.pop(0)\n",
        "\n",
        "    def get(self):\n",
        "        return self.deque[-1]\n",
        "\n",
        "def main():\n",
        "    # Create a trideque to store the story entries\n",
        "    trideque = Trideque()\n",
        "\n",
        "    # Add the first story entry to the trideque\n",
        "    trideque.add({\n",
        "        \"user_action\": \"I walk into the room\",\n",
        "        \"bot_response\": \"You walk into the room and see a table in the center.\",\n",
        "        \"narration_result\": \"You walk into the room and see a table in the center. The table is covered in a white tablecloth.\"\n",
        "    })\n",
        "\n",
        "    # Check if the character has already been in the room\n",
        "    if \"room\" in trideque.get()[\"narration_result\"]:\n",
        "        print(\"The character has already been in the room.\")\n",
        "    else:\n",
        "        print(\"The character has not been in the room before.\")\n",
        "\n",
        "if __name__ == \"__main__\":\n",
        "    main()"
      ],
      "outputs": [
        {
          "output_type": "stream",
          "name": "stdout",
          "text": [
            "The character has already been in the room.\n"
          ]
        }
      ],
      "execution_count": 1,
      "metadata": {
        "colab": {
          "base_uri": "https://localhost:8080/"
        },
        "id": "j92GevmxbC2Y",
        "outputId": "b63943b2-a189-4cdd-b7c4-6692fe870656"
      }
    },
    {
      "cell_type": "markdown",
      "source": [
        "This code will create a trideque to store the story entries. The first story entry is added to the trideque, and then the code checks if the character has already been in the room. If the character has already been in the room, the code prints a message indicating that. Otherwise, the code prints a message indicating that the character has not been in the room before.\n",
        "\n",
        "To run this code, you can save it as a `.py` file and then run it from the command line. For example, if you save the code as `part1.py`, you can run it by typing the following command into the command line:\n",
        "\n",
        "```\n",
        "python part1.py\n",
        "```\n",
        "\n",
        "This will run the code and print the output to the console."
      ],
      "metadata": {
        "id": "FY_rDobtbC2Z"
      }
    }
  ],
  "metadata": {
    "colab": {
      "provenance": [],
      "include_colab_link": true
    },
    "kernelspec": {
      "display_name": "Python 3",
      "name": "python3"
    }
  },
  "nbformat": 4,
  "nbformat_minor": 0
}